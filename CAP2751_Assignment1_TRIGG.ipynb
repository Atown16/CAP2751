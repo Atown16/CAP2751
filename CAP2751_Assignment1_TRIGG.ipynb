{
  "nbformat": 4,
  "nbformat_minor": 0,
  "metadata": {
    "colab": {
      "provenance": [],
      "toc_visible": true,
      "include_colab_link": true
    },
    "kernelspec": {
      "display_name": "Python [default]",
      "language": "python",
      "name": "python3"
    },
    "language_info": {
      "codemirror_mode": {
        "name": "ipython",
        "version": 3
      },
      "file_extension": ".py",
      "mimetype": "text/x-python",
      "name": "python",
      "nbconvert_exporter": "python",
      "pygments_lexer": "ipython3",
      "version": "3.6.8"
    },
    "accelerator": "GPU"
  },
  "cells": [
    {
      "cell_type": "markdown",
      "metadata": {
        "id": "view-in-github",
        "colab_type": "text"
      },
      "source": [
        "<a href=\"https://colab.research.google.com/github/Atown16/CAP2751/blob/main/CAP2751_Assignment1_TRIGG.ipynb\" target=\"_parent\"><img src=\"https://colab.research.google.com/assets/colab-badge.svg\" alt=\"Open In Colab\"/></a>"
      ]
    },
    {
      "cell_type": "markdown",
      "metadata": {
        "id": "p78j872pOKTZ"
      },
      "source": [
        "# CAP 2751 - Tools for Data Science\n",
        "***Include the following info by clicking here:***\n",
        "* Name: Austin Trigg\n",
        "* Canvas Course Section: CAP2751-2\n",
        "* Date: 02/05/2025\n",
        "* Link to your Notebook: https://colab.research.google.com/drive/1qgtqJbykRFJqunLo8e9ijU_lZo-pWW3l?usp=sharing"
      ]
    },
    {
      "cell_type": "markdown",
      "metadata": {
        "id": "NYmNMHGLOKTa"
      },
      "source": [
        "# Assignment 1: Exploratory Data Analysis (EDA)\n",
        "## STARTER"
      ]
    },
    {
      "cell_type": "markdown",
      "metadata": {
        "id": "9UMnsRndOKTb"
      },
      "source": [
        "### Goals\n",
        "\n",
        "- To acquire a basic understanding of the Python \"data science stack\" (NumPy, Pandas, Matplotlib).\n",
        "- To have an early experience of manipulating, summarizing, and visualizing small datasets.\n",
        "- To demonstrate the ability to write Python code to answer questions and test hypotheses based on the contents of those datasets.\n"
      ]
    },
    {
      "cell_type": "markdown",
      "metadata": {
        "id": "B0rEAT7MOKTb"
      },
      "source": [
        "### Instructions\n",
        "\n",
        "- This assignment is structured in two parts.\n",
        "- For each part, there will be some Python code to be written and questions to be answered.\n",
        "- At the end, you should export your notebook to PDF format; it will \"automagically\" become your report.\n",
        "- Submit the report (PDF), notebook (.ipynb file), and the link to the \"live\" version of your solution on Google Colaboratory via Canvas.\n",
        "- The number of points is indicated next to each part. They add up to 100.\n",
        "- There are additional (20 points worth of) bonus items, which are, of course optional."
      ]
    },
    {
      "cell_type": "markdown",
      "metadata": {
        "id": "qiufouQn6OD9"
      },
      "source": [
        "### Important\n",
        "\n",
        "- It is OK to attempt the bonus points, but please **do not overdo it!**\n",
        "- Remember: this is an early exercise in exploring datasets; learning the syntax and \"tricks\" of Python, Jupyter notebooks, Numpy, Pandas, and Matplotlib; and writing code to test simple hypotheses and produce answers to simple questions that **you know you should be able to answer** because the answer can be pulled from the data.\n",
        "- This is not (yet) the time to do sophisticated statistical analysis, train ML models, etc."
      ]
    },
    {
      "cell_type": "markdown",
      "metadata": {
        "id": "UgM90DRHHHdK"
      },
      "source": [
        "---------\n",
        "### Imports + Google Drive"
      ]
    },
    {
      "cell_type": "code",
      "metadata": {
        "id": "5uC7gGB7H_Kz"
      },
      "source": [
        "# Imports\n",
        "import numpy as np\n",
        "import pandas as pd\n",
        "from pandas import DataFrame, Series\n",
        "import matplotlib.pyplot as plt\n",
        "from scipy.stats import pearsonr\n",
        "from __future__ import division\n",
        "import seaborn as sns\n",
        "sns.set(style='ticks', palette='Set2')\n",
        "%matplotlib inline\n"
      ],
      "execution_count": null,
      "outputs": []
    },
    {
      "cell_type": "code",
      "source": [
        "from google.colab import drive\n",
        "drive.mount('/content/drive')"
      ],
      "metadata": {
        "id": "8cizVaLy8zqP",
        "colab": {
          "base_uri": "https://localhost:8080/"
        },
        "outputId": "84d8bfc2-9d36-4701-cce2-c094e9619ae8"
      },
      "execution_count": null,
      "outputs": [
        {
          "output_type": "stream",
          "name": "stdout",
          "text": [
            "Mounted at /content/drive\n"
          ]
        }
      ]
    },
    {
      "cell_type": "code",
      "metadata": {
        "id": "B2qHzn_CG8rZ",
        "colab": {
          "base_uri": "https://localhost:8080/"
        },
        "outputId": "ba7eeeba-bb41-451a-c869-335c2380b0c9"
      },
      "source": [
        "# Mount Google Drive\n",
        "from google.colab import drive\n",
        "drive.mount('/content/drive')"
      ],
      "execution_count": null,
      "outputs": [
        {
          "output_type": "stream",
          "name": "stdout",
          "text": [
            "Drive already mounted at /content/drive; to attempt to forcibly remount, call drive.mount(\"/content/drive\", force_remount=True).\n"
          ]
        }
      ]
    },
    {
      "cell_type": "markdown",
      "metadata": {
        "id": "G2J9o001OKTx"
      },
      "source": [
        "-------------------\n",
        "## Part 1: Salaries"
      ]
    },
    {
      "cell_type": "markdown",
      "metadata": {
        "id": "T1EXw38-OKTy"
      },
      "source": [
        "The Python code below will load a dataset containing the salaries and demographic data of more than 1000 employees of a hypothetical company, available in the file *salaries.csv*, which is a simple comma-separated list of labels and values."
      ]
    },
    {
      "cell_type": "code",
      "metadata": {
        "id": "lv1MGinjOKTz",
        "colab": {
          "base_uri": "https://localhost:8080/"
        },
        "outputId": "e5847c73-83cb-48d8-ebe7-0a8a078d91bc"
      },
      "source": [
        "salaries = pd.read_csv('/content/drive/My Drive/Colab Notebooks/data/salaries.csv')\n",
        "#salaries = pd.read_csv('./data/salaries.csv')\n",
        "print(salaries.shape)\n",
        "print(salaries.count())"
      ],
      "execution_count": null,
      "outputs": [
        {
          "output_type": "stream",
          "name": "stdout",
          "text": [
            "(1192, 6)\n",
            "earn      1192\n",
            "height    1192\n",
            "sex       1192\n",
            "ed        1192\n",
            "age       1192\n",
            "race      1192\n",
            "dtype: int64\n"
          ]
        }
      ]
    },
    {
      "cell_type": "code",
      "source": [
        "#How many samples we have:\n",
        "rows, columns = salaries.shape\n",
        "print(\"The dataset has {:,} rows and {} columns\".format(rows, columns))\n",
        "\n",
        "#Column names of the dataframes:\n",
        "print(salaries.columns)\n"
      ],
      "metadata": {
        "colab": {
          "base_uri": "https://localhost:8080/"
        },
        "id": "VT0GFkRyxuTq",
        "outputId": "5fd09a15-cf89-4c81-a76a-c1e46ca0413e"
      },
      "execution_count": null,
      "outputs": [
        {
          "output_type": "stream",
          "name": "stdout",
          "text": [
            "The dataset has 1,192 rows and 6 columns\n",
            "Index(['earn', 'height', 'sex', 'ed', 'age', 'race'], dtype='object')\n"
          ]
        }
      ]
    },
    {
      "cell_type": "code",
      "source": [
        "#print(salaries.info()) and useful to debug and check if in this case \"salaries\" is a dataframe\n",
        "print(type(salaries))"
      ],
      "metadata": {
        "colab": {
          "base_uri": "https://localhost:8080/"
        },
        "id": "SJCMk8qLAOa4",
        "outputId": "5433ad75-ffd5-476c-9942-681b1f8ceb7c"
      },
      "execution_count": null,
      "outputs": [
        {
          "output_type": "stream",
          "name": "stdout",
          "text": [
            "<class 'pandas.core.frame.DataFrame'>\n"
          ]
        }
      ]
    },
    {
      "cell_type": "code",
      "source": [
        "#This prints the data type of the value in the first row ([0]) of the 'race' column\n",
        "#This prints the value of the race attribute in the row with index 110 in the 'race' column\n",
        "print(\"race data type\", type(salaries['race'][0]))\n",
        "print(\"race value\", salaries['race'][110])\n",
        "\n"
      ],
      "metadata": {
        "colab": {
          "base_uri": "https://localhost:8080/"
        },
        "id": "wwC9AzzGBO1V",
        "outputId": "d9dd361a-61a5-4deb-d8ff-1f5bb041c1b5"
      },
      "execution_count": null,
      "outputs": [
        {
          "output_type": "stream",
          "name": "stdout",
          "text": [
            "race data type <class 'str'>\n",
            "race value white\n"
          ]
        }
      ]
    },
    {
      "cell_type": "markdown",
      "metadata": {
        "id": "wxwNfCp1OKT2"
      },
      "source": [
        "### 1.1 Your turn! (2 points)\n",
        "\n",
        "What is the meaning of each of the six variables/features stored along the columns of the dataset?\n",
        "\n",
        "Hint: Your solution should have a code cell (2-3 lines of Python) + a text cell (bullet list, explaining the meaning of each variable _to the best of your knowledge_)"
      ]
    },
    {
      "cell_type": "code",
      "metadata": {
        "id": "R87GQz-ILPv4",
        "colab": {
          "base_uri": "https://localhost:8080/",
          "height": 206
        },
        "outputId": "a71310ab-a787-4693-8dbe-0a7591c98340"
      },
      "source": [
        "# Enter your code here\n",
        "salaries.head()"
      ],
      "execution_count": null,
      "outputs": [
        {
          "output_type": "execute_result",
          "data": {
            "text/plain": [
              "      earn     height     sex  ed  age   race\n",
              "0  50000.0  74.424439    male  16   45  white\n",
              "1  60000.0  65.537543  female  16   58  white\n",
              "2  30000.0  63.629198  female  16   29  white\n",
              "3  50000.0  63.108562  female  16   91  other\n",
              "4  51000.0  63.402484  female  17   39  white"
            ],
            "text/html": [
              "\n",
              "  <div id=\"df-bc4fc4c9-b6e3-4d42-ac88-c4c7b4a54051\" class=\"colab-df-container\">\n",
              "    <div>\n",
              "<style scoped>\n",
              "    .dataframe tbody tr th:only-of-type {\n",
              "        vertical-align: middle;\n",
              "    }\n",
              "\n",
              "    .dataframe tbody tr th {\n",
              "        vertical-align: top;\n",
              "    }\n",
              "\n",
              "    .dataframe thead th {\n",
              "        text-align: right;\n",
              "    }\n",
              "</style>\n",
              "<table border=\"1\" class=\"dataframe\">\n",
              "  <thead>\n",
              "    <tr style=\"text-align: right;\">\n",
              "      <th></th>\n",
              "      <th>earn</th>\n",
              "      <th>height</th>\n",
              "      <th>sex</th>\n",
              "      <th>ed</th>\n",
              "      <th>age</th>\n",
              "      <th>race</th>\n",
              "    </tr>\n",
              "  </thead>\n",
              "  <tbody>\n",
              "    <tr>\n",
              "      <th>0</th>\n",
              "      <td>50000.0</td>\n",
              "      <td>74.424439</td>\n",
              "      <td>male</td>\n",
              "      <td>16</td>\n",
              "      <td>45</td>\n",
              "      <td>white</td>\n",
              "    </tr>\n",
              "    <tr>\n",
              "      <th>1</th>\n",
              "      <td>60000.0</td>\n",
              "      <td>65.537543</td>\n",
              "      <td>female</td>\n",
              "      <td>16</td>\n",
              "      <td>58</td>\n",
              "      <td>white</td>\n",
              "    </tr>\n",
              "    <tr>\n",
              "      <th>2</th>\n",
              "      <td>30000.0</td>\n",
              "      <td>63.629198</td>\n",
              "      <td>female</td>\n",
              "      <td>16</td>\n",
              "      <td>29</td>\n",
              "      <td>white</td>\n",
              "    </tr>\n",
              "    <tr>\n",
              "      <th>3</th>\n",
              "      <td>50000.0</td>\n",
              "      <td>63.108562</td>\n",
              "      <td>female</td>\n",
              "      <td>16</td>\n",
              "      <td>91</td>\n",
              "      <td>other</td>\n",
              "    </tr>\n",
              "    <tr>\n",
              "      <th>4</th>\n",
              "      <td>51000.0</td>\n",
              "      <td>63.402484</td>\n",
              "      <td>female</td>\n",
              "      <td>17</td>\n",
              "      <td>39</td>\n",
              "      <td>white</td>\n",
              "    </tr>\n",
              "  </tbody>\n",
              "</table>\n",
              "</div>\n",
              "    <div class=\"colab-df-buttons\">\n",
              "\n",
              "  <div class=\"colab-df-container\">\n",
              "    <button class=\"colab-df-convert\" onclick=\"convertToInteractive('df-bc4fc4c9-b6e3-4d42-ac88-c4c7b4a54051')\"\n",
              "            title=\"Convert this dataframe to an interactive table.\"\n",
              "            style=\"display:none;\">\n",
              "\n",
              "  <svg xmlns=\"http://www.w3.org/2000/svg\" height=\"24px\" viewBox=\"0 -960 960 960\">\n",
              "    <path d=\"M120-120v-720h720v720H120Zm60-500h600v-160H180v160Zm220 220h160v-160H400v160Zm0 220h160v-160H400v160ZM180-400h160v-160H180v160Zm440 0h160v-160H620v160ZM180-180h160v-160H180v160Zm440 0h160v-160H620v160Z\"/>\n",
              "  </svg>\n",
              "    </button>\n",
              "\n",
              "  <style>\n",
              "    .colab-df-container {\n",
              "      display:flex;\n",
              "      gap: 12px;\n",
              "    }\n",
              "\n",
              "    .colab-df-convert {\n",
              "      background-color: #E8F0FE;\n",
              "      border: none;\n",
              "      border-radius: 50%;\n",
              "      cursor: pointer;\n",
              "      display: none;\n",
              "      fill: #1967D2;\n",
              "      height: 32px;\n",
              "      padding: 0 0 0 0;\n",
              "      width: 32px;\n",
              "    }\n",
              "\n",
              "    .colab-df-convert:hover {\n",
              "      background-color: #E2EBFA;\n",
              "      box-shadow: 0px 1px 2px rgba(60, 64, 67, 0.3), 0px 1px 3px 1px rgba(60, 64, 67, 0.15);\n",
              "      fill: #174EA6;\n",
              "    }\n",
              "\n",
              "    .colab-df-buttons div {\n",
              "      margin-bottom: 4px;\n",
              "    }\n",
              "\n",
              "    [theme=dark] .colab-df-convert {\n",
              "      background-color: #3B4455;\n",
              "      fill: #D2E3FC;\n",
              "    }\n",
              "\n",
              "    [theme=dark] .colab-df-convert:hover {\n",
              "      background-color: #434B5C;\n",
              "      box-shadow: 0px 1px 3px 1px rgba(0, 0, 0, 0.15);\n",
              "      filter: drop-shadow(0px 1px 2px rgba(0, 0, 0, 0.3));\n",
              "      fill: #FFFFFF;\n",
              "    }\n",
              "  </style>\n",
              "\n",
              "    <script>\n",
              "      const buttonEl =\n",
              "        document.querySelector('#df-bc4fc4c9-b6e3-4d42-ac88-c4c7b4a54051 button.colab-df-convert');\n",
              "      buttonEl.style.display =\n",
              "        google.colab.kernel.accessAllowed ? 'block' : 'none';\n",
              "\n",
              "      async function convertToInteractive(key) {\n",
              "        const element = document.querySelector('#df-bc4fc4c9-b6e3-4d42-ac88-c4c7b4a54051');\n",
              "        const dataTable =\n",
              "          await google.colab.kernel.invokeFunction('convertToInteractive',\n",
              "                                                    [key], {});\n",
              "        if (!dataTable) return;\n",
              "\n",
              "        const docLinkHtml = 'Like what you see? Visit the ' +\n",
              "          '<a target=\"_blank\" href=https://colab.research.google.com/notebooks/data_table.ipynb>data table notebook</a>'\n",
              "          + ' to learn more about interactive tables.';\n",
              "        element.innerHTML = '';\n",
              "        dataTable['output_type'] = 'display_data';\n",
              "        await google.colab.output.renderOutput(dataTable, element);\n",
              "        const docLink = document.createElement('div');\n",
              "        docLink.innerHTML = docLinkHtml;\n",
              "        element.appendChild(docLink);\n",
              "      }\n",
              "    </script>\n",
              "  </div>\n",
              "\n",
              "\n",
              "<div id=\"df-ddab3f44-c4b2-451e-bcec-5c06edbc06aa\">\n",
              "  <button class=\"colab-df-quickchart\" onclick=\"quickchart('df-ddab3f44-c4b2-451e-bcec-5c06edbc06aa')\"\n",
              "            title=\"Suggest charts\"\n",
              "            style=\"display:none;\">\n",
              "\n",
              "<svg xmlns=\"http://www.w3.org/2000/svg\" height=\"24px\"viewBox=\"0 0 24 24\"\n",
              "     width=\"24px\">\n",
              "    <g>\n",
              "        <path d=\"M19 3H5c-1.1 0-2 .9-2 2v14c0 1.1.9 2 2 2h14c1.1 0 2-.9 2-2V5c0-1.1-.9-2-2-2zM9 17H7v-7h2v7zm4 0h-2V7h2v10zm4 0h-2v-4h2v4z\"/>\n",
              "    </g>\n",
              "</svg>\n",
              "  </button>\n",
              "\n",
              "<style>\n",
              "  .colab-df-quickchart {\n",
              "      --bg-color: #E8F0FE;\n",
              "      --fill-color: #1967D2;\n",
              "      --hover-bg-color: #E2EBFA;\n",
              "      --hover-fill-color: #174EA6;\n",
              "      --disabled-fill-color: #AAA;\n",
              "      --disabled-bg-color: #DDD;\n",
              "  }\n",
              "\n",
              "  [theme=dark] .colab-df-quickchart {\n",
              "      --bg-color: #3B4455;\n",
              "      --fill-color: #D2E3FC;\n",
              "      --hover-bg-color: #434B5C;\n",
              "      --hover-fill-color: #FFFFFF;\n",
              "      --disabled-bg-color: #3B4455;\n",
              "      --disabled-fill-color: #666;\n",
              "  }\n",
              "\n",
              "  .colab-df-quickchart {\n",
              "    background-color: var(--bg-color);\n",
              "    border: none;\n",
              "    border-radius: 50%;\n",
              "    cursor: pointer;\n",
              "    display: none;\n",
              "    fill: var(--fill-color);\n",
              "    height: 32px;\n",
              "    padding: 0;\n",
              "    width: 32px;\n",
              "  }\n",
              "\n",
              "  .colab-df-quickchart:hover {\n",
              "    background-color: var(--hover-bg-color);\n",
              "    box-shadow: 0 1px 2px rgba(60, 64, 67, 0.3), 0 1px 3px 1px rgba(60, 64, 67, 0.15);\n",
              "    fill: var(--button-hover-fill-color);\n",
              "  }\n",
              "\n",
              "  .colab-df-quickchart-complete:disabled,\n",
              "  .colab-df-quickchart-complete:disabled:hover {\n",
              "    background-color: var(--disabled-bg-color);\n",
              "    fill: var(--disabled-fill-color);\n",
              "    box-shadow: none;\n",
              "  }\n",
              "\n",
              "  .colab-df-spinner {\n",
              "    border: 2px solid var(--fill-color);\n",
              "    border-color: transparent;\n",
              "    border-bottom-color: var(--fill-color);\n",
              "    animation:\n",
              "      spin 1s steps(1) infinite;\n",
              "  }\n",
              "\n",
              "  @keyframes spin {\n",
              "    0% {\n",
              "      border-color: transparent;\n",
              "      border-bottom-color: var(--fill-color);\n",
              "      border-left-color: var(--fill-color);\n",
              "    }\n",
              "    20% {\n",
              "      border-color: transparent;\n",
              "      border-left-color: var(--fill-color);\n",
              "      border-top-color: var(--fill-color);\n",
              "    }\n",
              "    30% {\n",
              "      border-color: transparent;\n",
              "      border-left-color: var(--fill-color);\n",
              "      border-top-color: var(--fill-color);\n",
              "      border-right-color: var(--fill-color);\n",
              "    }\n",
              "    40% {\n",
              "      border-color: transparent;\n",
              "      border-right-color: var(--fill-color);\n",
              "      border-top-color: var(--fill-color);\n",
              "    }\n",
              "    60% {\n",
              "      border-color: transparent;\n",
              "      border-right-color: var(--fill-color);\n",
              "    }\n",
              "    80% {\n",
              "      border-color: transparent;\n",
              "      border-right-color: var(--fill-color);\n",
              "      border-bottom-color: var(--fill-color);\n",
              "    }\n",
              "    90% {\n",
              "      border-color: transparent;\n",
              "      border-bottom-color: var(--fill-color);\n",
              "    }\n",
              "  }\n",
              "</style>\n",
              "\n",
              "  <script>\n",
              "    async function quickchart(key) {\n",
              "      const quickchartButtonEl =\n",
              "        document.querySelector('#' + key + ' button');\n",
              "      quickchartButtonEl.disabled = true;  // To prevent multiple clicks.\n",
              "      quickchartButtonEl.classList.add('colab-df-spinner');\n",
              "      try {\n",
              "        const charts = await google.colab.kernel.invokeFunction(\n",
              "            'suggestCharts', [key], {});\n",
              "      } catch (error) {\n",
              "        console.error('Error during call to suggestCharts:', error);\n",
              "      }\n",
              "      quickchartButtonEl.classList.remove('colab-df-spinner');\n",
              "      quickchartButtonEl.classList.add('colab-df-quickchart-complete');\n",
              "    }\n",
              "    (() => {\n",
              "      let quickchartButtonEl =\n",
              "        document.querySelector('#df-ddab3f44-c4b2-451e-bcec-5c06edbc06aa button');\n",
              "      quickchartButtonEl.style.display =\n",
              "        google.colab.kernel.accessAllowed ? 'block' : 'none';\n",
              "    })();\n",
              "  </script>\n",
              "</div>\n",
              "\n",
              "    </div>\n",
              "  </div>\n"
            ],
            "application/vnd.google.colaboratory.intrinsic+json": {
              "type": "dataframe",
              "variable_name": "salaries",
              "summary": "{\n  \"name\": \"salaries\",\n  \"rows\": 1192,\n  \"fields\": [\n    {\n      \"column\": \"earn\",\n      \"properties\": {\n        \"dtype\": \"number\",\n        \"std\": 19472.2969254791,\n        \"min\": 200.0,\n        \"max\": 200000.0,\n        \"num_unique_values\": 133,\n        \"samples\": [\n          37000.0,\n          32750.0,\n          18700.0\n        ],\n        \"semantic_type\": \"\",\n        \"description\": \"\"\n      }\n    },\n    {\n      \"column\": \"height\",\n      \"properties\": {\n        \"dtype\": \"number\",\n        \"std\": 3.853967839819119,\n        \"min\": 57.50321861,\n        \"max\": 77.05128181,\n        \"num_unique_values\": 1192,\n        \"samples\": [\n          64.74689624,\n          61.97133572,\n          75.13845111\n        ],\n        \"semantic_type\": \"\",\n        \"description\": \"\"\n      }\n    },\n    {\n      \"column\": \"sex\",\n      \"properties\": {\n        \"dtype\": \"category\",\n        \"num_unique_values\": 2,\n        \"samples\": [\n          \"female\",\n          \"male\"\n        ],\n        \"semantic_type\": \"\",\n        \"description\": \"\"\n      }\n    },\n    {\n      \"column\": \"ed\",\n      \"properties\": {\n        \"dtype\": \"number\",\n        \"std\": 2,\n        \"min\": 3,\n        \"max\": 18,\n        \"num_unique_values\": 16,\n        \"samples\": [\n          16,\n          17\n        ],\n        \"semantic_type\": \"\",\n        \"description\": \"\"\n      }\n    },\n    {\n      \"column\": \"age\",\n      \"properties\": {\n        \"dtype\": \"number\",\n        \"std\": 15,\n        \"min\": 18,\n        \"max\": 91,\n        \"num_unique_values\": 72,\n        \"samples\": [\n          39,\n          81\n        ],\n        \"semantic_type\": \"\",\n        \"description\": \"\"\n      }\n    },\n    {\n      \"column\": \"race\",\n      \"properties\": {\n        \"dtype\": \"category\",\n        \"num_unique_values\": 4,\n        \"samples\": [\n          \"other\",\n          \"black\"\n        ],\n        \"semantic_type\": \"\",\n        \"description\": \"\"\n      }\n    }\n  ]\n}"
            }
          },
          "metadata": {},
          "execution_count": 8
        }
      ]
    },
    {
      "cell_type": "code",
      "source": [
        "# Enter your code here\n",
        "print(salaries.isnull().sum())"
      ],
      "metadata": {
        "colab": {
          "base_uri": "https://localhost:8080/"
        },
        "id": "3iKLbTx2t3MJ",
        "outputId": "8e68fb5a-9c73-4d67-a284-784ed842a288"
      },
      "execution_count": null,
      "outputs": [
        {
          "output_type": "stream",
          "name": "stdout",
          "text": [
            "earn      0\n",
            "height    0\n",
            "sex       0\n",
            "ed        0\n",
            "age       0\n",
            "race      0\n",
            "dtype: int64\n"
          ]
        }
      ]
    },
    {
      "cell_type": "markdown",
      "source": [
        "\n",
        "\n",
        "*   earn: is the annual salary\n",
        "*   height: is the hieght in inches, the # of digits shows that it was converted from the metric system\n",
        "*   sex: is a categorical value\n",
        "*   ed: is the # of education years\n",
        "*   age: is a complete # of years of age\n",
        "*   race: is a categorical value\n",
        "\n",
        "\n",
        "\n",
        "\n",
        "\n",
        "\n"
      ],
      "metadata": {
        "id": "6F_x9Cl7EsGS"
      }
    },
    {
      "cell_type": "code",
      "metadata": {
        "id": "2fmIimSv3RfT",
        "colab": {
          "base_uri": "https://localhost:8080/"
        },
        "outputId": "92f23cc8-daa3-469b-a0d9-d9a753c9ce24"
      },
      "source": [
        "# Enter your code\n",
        "# inspired by ----- url\n",
        "#print(salaries.isnull().sum() )\n",
        "print(salaries.dtypes)\n"
      ],
      "execution_count": null,
      "outputs": [
        {
          "output_type": "stream",
          "name": "stdout",
          "text": [
            "earn      float64\n",
            "height    float64\n",
            "sex        object\n",
            "ed          int64\n",
            "age         int64\n",
            "race       object\n",
            "dtype: object\n"
          ]
        }
      ]
    },
    {
      "cell_type": "code",
      "source": [
        "salaries.describe()"
      ],
      "metadata": {
        "colab": {
          "base_uri": "https://localhost:8080/",
          "height": 300
        },
        "id": "QTZ9wS2z17mL",
        "outputId": "041d753f-4d9f-4015-a7d2-f20f781b28c6"
      },
      "execution_count": null,
      "outputs": [
        {
          "output_type": "execute_result",
          "data": {
            "text/plain": [
              "                earn       height           ed          age\n",
              "count    1192.000000  1192.000000  1192.000000  1192.000000\n",
              "mean    23154.773490    66.915154    13.504195    41.378356\n",
              "std     19472.296925     3.853968     2.420175    15.867428\n",
              "min       200.000000    57.503219     3.000000    18.000000\n",
              "25%     10000.000000    64.009746    12.000000    29.000000\n",
              "50%     20000.000000    66.451265    13.000000    38.000000\n",
              "75%     30000.000000    69.848100    16.000000    51.000000\n",
              "max    200000.000000    77.051282    18.000000    91.000000"
            ],
            "text/html": [
              "\n",
              "  <div id=\"df-8f6c19be-2bef-4976-a77f-a81eb9b65c65\" class=\"colab-df-container\">\n",
              "    <div>\n",
              "<style scoped>\n",
              "    .dataframe tbody tr th:only-of-type {\n",
              "        vertical-align: middle;\n",
              "    }\n",
              "\n",
              "    .dataframe tbody tr th {\n",
              "        vertical-align: top;\n",
              "    }\n",
              "\n",
              "    .dataframe thead th {\n",
              "        text-align: right;\n",
              "    }\n",
              "</style>\n",
              "<table border=\"1\" class=\"dataframe\">\n",
              "  <thead>\n",
              "    <tr style=\"text-align: right;\">\n",
              "      <th></th>\n",
              "      <th>earn</th>\n",
              "      <th>height</th>\n",
              "      <th>ed</th>\n",
              "      <th>age</th>\n",
              "    </tr>\n",
              "  </thead>\n",
              "  <tbody>\n",
              "    <tr>\n",
              "      <th>count</th>\n",
              "      <td>1192.000000</td>\n",
              "      <td>1192.000000</td>\n",
              "      <td>1192.000000</td>\n",
              "      <td>1192.000000</td>\n",
              "    </tr>\n",
              "    <tr>\n",
              "      <th>mean</th>\n",
              "      <td>23154.773490</td>\n",
              "      <td>66.915154</td>\n",
              "      <td>13.504195</td>\n",
              "      <td>41.378356</td>\n",
              "    </tr>\n",
              "    <tr>\n",
              "      <th>std</th>\n",
              "      <td>19472.296925</td>\n",
              "      <td>3.853968</td>\n",
              "      <td>2.420175</td>\n",
              "      <td>15.867428</td>\n",
              "    </tr>\n",
              "    <tr>\n",
              "      <th>min</th>\n",
              "      <td>200.000000</td>\n",
              "      <td>57.503219</td>\n",
              "      <td>3.000000</td>\n",
              "      <td>18.000000</td>\n",
              "    </tr>\n",
              "    <tr>\n",
              "      <th>25%</th>\n",
              "      <td>10000.000000</td>\n",
              "      <td>64.009746</td>\n",
              "      <td>12.000000</td>\n",
              "      <td>29.000000</td>\n",
              "    </tr>\n",
              "    <tr>\n",
              "      <th>50%</th>\n",
              "      <td>20000.000000</td>\n",
              "      <td>66.451265</td>\n",
              "      <td>13.000000</td>\n",
              "      <td>38.000000</td>\n",
              "    </tr>\n",
              "    <tr>\n",
              "      <th>75%</th>\n",
              "      <td>30000.000000</td>\n",
              "      <td>69.848100</td>\n",
              "      <td>16.000000</td>\n",
              "      <td>51.000000</td>\n",
              "    </tr>\n",
              "    <tr>\n",
              "      <th>max</th>\n",
              "      <td>200000.000000</td>\n",
              "      <td>77.051282</td>\n",
              "      <td>18.000000</td>\n",
              "      <td>91.000000</td>\n",
              "    </tr>\n",
              "  </tbody>\n",
              "</table>\n",
              "</div>\n",
              "    <div class=\"colab-df-buttons\">\n",
              "\n",
              "  <div class=\"colab-df-container\">\n",
              "    <button class=\"colab-df-convert\" onclick=\"convertToInteractive('df-8f6c19be-2bef-4976-a77f-a81eb9b65c65')\"\n",
              "            title=\"Convert this dataframe to an interactive table.\"\n",
              "            style=\"display:none;\">\n",
              "\n",
              "  <svg xmlns=\"http://www.w3.org/2000/svg\" height=\"24px\" viewBox=\"0 -960 960 960\">\n",
              "    <path d=\"M120-120v-720h720v720H120Zm60-500h600v-160H180v160Zm220 220h160v-160H400v160Zm0 220h160v-160H400v160ZM180-400h160v-160H180v160Zm440 0h160v-160H620v160ZM180-180h160v-160H180v160Zm440 0h160v-160H620v160Z\"/>\n",
              "  </svg>\n",
              "    </button>\n",
              "\n",
              "  <style>\n",
              "    .colab-df-container {\n",
              "      display:flex;\n",
              "      gap: 12px;\n",
              "    }\n",
              "\n",
              "    .colab-df-convert {\n",
              "      background-color: #E8F0FE;\n",
              "      border: none;\n",
              "      border-radius: 50%;\n",
              "      cursor: pointer;\n",
              "      display: none;\n",
              "      fill: #1967D2;\n",
              "      height: 32px;\n",
              "      padding: 0 0 0 0;\n",
              "      width: 32px;\n",
              "    }\n",
              "\n",
              "    .colab-df-convert:hover {\n",
              "      background-color: #E2EBFA;\n",
              "      box-shadow: 0px 1px 2px rgba(60, 64, 67, 0.3), 0px 1px 3px 1px rgba(60, 64, 67, 0.15);\n",
              "      fill: #174EA6;\n",
              "    }\n",
              "\n",
              "    .colab-df-buttons div {\n",
              "      margin-bottom: 4px;\n",
              "    }\n",
              "\n",
              "    [theme=dark] .colab-df-convert {\n",
              "      background-color: #3B4455;\n",
              "      fill: #D2E3FC;\n",
              "    }\n",
              "\n",
              "    [theme=dark] .colab-df-convert:hover {\n",
              "      background-color: #434B5C;\n",
              "      box-shadow: 0px 1px 3px 1px rgba(0, 0, 0, 0.15);\n",
              "      filter: drop-shadow(0px 1px 2px rgba(0, 0, 0, 0.3));\n",
              "      fill: #FFFFFF;\n",
              "    }\n",
              "  </style>\n",
              "\n",
              "    <script>\n",
              "      const buttonEl =\n",
              "        document.querySelector('#df-8f6c19be-2bef-4976-a77f-a81eb9b65c65 button.colab-df-convert');\n",
              "      buttonEl.style.display =\n",
              "        google.colab.kernel.accessAllowed ? 'block' : 'none';\n",
              "\n",
              "      async function convertToInteractive(key) {\n",
              "        const element = document.querySelector('#df-8f6c19be-2bef-4976-a77f-a81eb9b65c65');\n",
              "        const dataTable =\n",
              "          await google.colab.kernel.invokeFunction('convertToInteractive',\n",
              "                                                    [key], {});\n",
              "        if (!dataTable) return;\n",
              "\n",
              "        const docLinkHtml = 'Like what you see? Visit the ' +\n",
              "          '<a target=\"_blank\" href=https://colab.research.google.com/notebooks/data_table.ipynb>data table notebook</a>'\n",
              "          + ' to learn more about interactive tables.';\n",
              "        element.innerHTML = '';\n",
              "        dataTable['output_type'] = 'display_data';\n",
              "        await google.colab.output.renderOutput(dataTable, element);\n",
              "        const docLink = document.createElement('div');\n",
              "        docLink.innerHTML = docLinkHtml;\n",
              "        element.appendChild(docLink);\n",
              "      }\n",
              "    </script>\n",
              "  </div>\n",
              "\n",
              "\n",
              "<div id=\"df-c2f85e94-dd18-4283-880c-17e198a853df\">\n",
              "  <button class=\"colab-df-quickchart\" onclick=\"quickchart('df-c2f85e94-dd18-4283-880c-17e198a853df')\"\n",
              "            title=\"Suggest charts\"\n",
              "            style=\"display:none;\">\n",
              "\n",
              "<svg xmlns=\"http://www.w3.org/2000/svg\" height=\"24px\"viewBox=\"0 0 24 24\"\n",
              "     width=\"24px\">\n",
              "    <g>\n",
              "        <path d=\"M19 3H5c-1.1 0-2 .9-2 2v14c0 1.1.9 2 2 2h14c1.1 0 2-.9 2-2V5c0-1.1-.9-2-2-2zM9 17H7v-7h2v7zm4 0h-2V7h2v10zm4 0h-2v-4h2v4z\"/>\n",
              "    </g>\n",
              "</svg>\n",
              "  </button>\n",
              "\n",
              "<style>\n",
              "  .colab-df-quickchart {\n",
              "      --bg-color: #E8F0FE;\n",
              "      --fill-color: #1967D2;\n",
              "      --hover-bg-color: #E2EBFA;\n",
              "      --hover-fill-color: #174EA6;\n",
              "      --disabled-fill-color: #AAA;\n",
              "      --disabled-bg-color: #DDD;\n",
              "  }\n",
              "\n",
              "  [theme=dark] .colab-df-quickchart {\n",
              "      --bg-color: #3B4455;\n",
              "      --fill-color: #D2E3FC;\n",
              "      --hover-bg-color: #434B5C;\n",
              "      --hover-fill-color: #FFFFFF;\n",
              "      --disabled-bg-color: #3B4455;\n",
              "      --disabled-fill-color: #666;\n",
              "  }\n",
              "\n",
              "  .colab-df-quickchart {\n",
              "    background-color: var(--bg-color);\n",
              "    border: none;\n",
              "    border-radius: 50%;\n",
              "    cursor: pointer;\n",
              "    display: none;\n",
              "    fill: var(--fill-color);\n",
              "    height: 32px;\n",
              "    padding: 0;\n",
              "    width: 32px;\n",
              "  }\n",
              "\n",
              "  .colab-df-quickchart:hover {\n",
              "    background-color: var(--hover-bg-color);\n",
              "    box-shadow: 0 1px 2px rgba(60, 64, 67, 0.3), 0 1px 3px 1px rgba(60, 64, 67, 0.15);\n",
              "    fill: var(--button-hover-fill-color);\n",
              "  }\n",
              "\n",
              "  .colab-df-quickchart-complete:disabled,\n",
              "  .colab-df-quickchart-complete:disabled:hover {\n",
              "    background-color: var(--disabled-bg-color);\n",
              "    fill: var(--disabled-fill-color);\n",
              "    box-shadow: none;\n",
              "  }\n",
              "\n",
              "  .colab-df-spinner {\n",
              "    border: 2px solid var(--fill-color);\n",
              "    border-color: transparent;\n",
              "    border-bottom-color: var(--fill-color);\n",
              "    animation:\n",
              "      spin 1s steps(1) infinite;\n",
              "  }\n",
              "\n",
              "  @keyframes spin {\n",
              "    0% {\n",
              "      border-color: transparent;\n",
              "      border-bottom-color: var(--fill-color);\n",
              "      border-left-color: var(--fill-color);\n",
              "    }\n",
              "    20% {\n",
              "      border-color: transparent;\n",
              "      border-left-color: var(--fill-color);\n",
              "      border-top-color: var(--fill-color);\n",
              "    }\n",
              "    30% {\n",
              "      border-color: transparent;\n",
              "      border-left-color: var(--fill-color);\n",
              "      border-top-color: var(--fill-color);\n",
              "      border-right-color: var(--fill-color);\n",
              "    }\n",
              "    40% {\n",
              "      border-color: transparent;\n",
              "      border-right-color: var(--fill-color);\n",
              "      border-top-color: var(--fill-color);\n",
              "    }\n",
              "    60% {\n",
              "      border-color: transparent;\n",
              "      border-right-color: var(--fill-color);\n",
              "    }\n",
              "    80% {\n",
              "      border-color: transparent;\n",
              "      border-right-color: var(--fill-color);\n",
              "      border-bottom-color: var(--fill-color);\n",
              "    }\n",
              "    90% {\n",
              "      border-color: transparent;\n",
              "      border-bottom-color: var(--fill-color);\n",
              "    }\n",
              "  }\n",
              "</style>\n",
              "\n",
              "  <script>\n",
              "    async function quickchart(key) {\n",
              "      const quickchartButtonEl =\n",
              "        document.querySelector('#' + key + ' button');\n",
              "      quickchartButtonEl.disabled = true;  // To prevent multiple clicks.\n",
              "      quickchartButtonEl.classList.add('colab-df-spinner');\n",
              "      try {\n",
              "        const charts = await google.colab.kernel.invokeFunction(\n",
              "            'suggestCharts', [key], {});\n",
              "      } catch (error) {\n",
              "        console.error('Error during call to suggestCharts:', error);\n",
              "      }\n",
              "      quickchartButtonEl.classList.remove('colab-df-spinner');\n",
              "      quickchartButtonEl.classList.add('colab-df-quickchart-complete');\n",
              "    }\n",
              "    (() => {\n",
              "      let quickchartButtonEl =\n",
              "        document.querySelector('#df-c2f85e94-dd18-4283-880c-17e198a853df button');\n",
              "      quickchartButtonEl.style.display =\n",
              "        google.colab.kernel.accessAllowed ? 'block' : 'none';\n",
              "    })();\n",
              "  </script>\n",
              "</div>\n",
              "\n",
              "    </div>\n",
              "  </div>\n"
            ],
            "application/vnd.google.colaboratory.intrinsic+json": {
              "type": "dataframe",
              "summary": "{\n  \"name\": \"salaries\",\n  \"rows\": 8,\n  \"fields\": [\n    {\n      \"column\": \"earn\",\n      \"properties\": {\n        \"dtype\": \"number\",\n        \"std\": 66292.99181867106,\n        \"min\": 200.0,\n        \"max\": 200000.0,\n        \"num_unique_values\": 8,\n        \"samples\": [\n          23154.773489932886,\n          20000.0,\n          1192.0\n        ],\n        \"semantic_type\": \"\",\n        \"description\": \"\"\n      }\n    },\n    {\n      \"column\": \"height\",\n      \"properties\": {\n        \"dtype\": \"number\",\n        \"std\": 401.59289845984813,\n        \"min\": 3.853967839819119,\n        \"max\": 1192.0,\n        \"num_unique_values\": 8,\n        \"samples\": [\n          66.91515376127518,\n          66.45126521,\n          1192.0\n        ],\n        \"semantic_type\": \"\",\n        \"description\": \"\"\n      }\n    },\n    {\n      \"column\": \"ed\",\n      \"properties\": {\n        \"dtype\": \"number\",\n        \"std\": 417.53797647048117,\n        \"min\": 2.420174620696762,\n        \"max\": 1192.0,\n        \"num_unique_values\": 8,\n        \"samples\": [\n          13.504194630872483,\n          13.0,\n          1192.0\n        ],\n        \"semantic_type\": \"\",\n        \"description\": \"\"\n      }\n    },\n    {\n      \"column\": \"age\",\n      \"properties\": {\n        \"dtype\": \"number\",\n        \"std\": 407.7650306827936,\n        \"min\": 15.867428354982035,\n        \"max\": 1192.0,\n        \"num_unique_values\": 8,\n        \"samples\": [\n          41.37835570469799,\n          38.0,\n          1192.0\n        ],\n        \"semantic_type\": \"\",\n        \"description\": \"\"\n      }\n    }\n  ]\n}"
            }
          },
          "metadata": {},
          "execution_count": 10
        }
      ]
    },
    {
      "cell_type": "markdown",
      "metadata": {
        "id": "Ib2qJbwDLSP5"
      },
      "source": [
        "* **bold text**Enter your text here*\n",
        "\n",
        "*   earn = salary (presumably annual, in USD)\n",
        "*   height = height (inch)\n",
        "\n",
        "\n",
        "\n"
      ]
    },
    {
      "cell_type": "markdown",
      "metadata": {
        "id": "-bvyTbsZOKT4"
      },
      "source": [
        "--------------------\n",
        "### Summary statistics and correlations\n",
        "\n",
        "Let's explore the dataset by plotting some graphs and displaying summary statistics.\n",
        "\n",
        "The code below should display:\n",
        "- Min, max, average, and median salary (global)\n",
        "- A histogram of salaries\n",
        "- A scatterplot correlating salaries and years of education\n",
        "- The (Pearson) correlation coefficient between the two variables.\n",
        "\n",
        "This should help us get started."
      ]
    },
    {
      "cell_type": "code",
      "metadata": {
        "id": "jai0zaQ1OKT5",
        "colab": {
          "base_uri": "https://localhost:8080/"
        },
        "outputId": "a0eef80b-41d4-44f5-f565-1dd5c18c722f"
      },
      "source": [
        "salary = np.array(salaries['earn'])\n",
        "print(\"--- Salary statistics ---\")\n",
        "print(\"Minimum salary (global): ${:6.2f}\".format(np.min(salary)))\n",
        "print(\"Maximum salary (global): ${:6.2f}\".format(np.max(salary)))\n",
        "print(\"Average salary (global): ${:6.2f}\".format(np.mean(salary)))\n",
        "print(\"Median  salary (global): ${:6.2f}\".format(np.median(salary)))"
      ],
      "execution_count": null,
      "outputs": [
        {
          "output_type": "stream",
          "name": "stdout",
          "text": [
            "--- Salary statistics ---\n",
            "Minimum salary (global): $200.00\n",
            "Maximum salary (global): $200000.00\n",
            "Average salary (global): $23154.77\n",
            "Median  salary (global): $20000.00\n"
          ]
        }
      ]
    },
    {
      "cell_type": "code",
      "metadata": {
        "id": "MQSn8R8MOKT6",
        "colab": {
          "base_uri": "https://localhost:8080/",
          "height": 480
        },
        "outputId": "bfab9170-90bf-4a9d-f9c0-5eca02750091"
      },
      "source": [
        "plt.hist(salary)\n",
        "plt.title('Salary Distribution')\n",
        "plt.xlabel('Salary')\n",
        "plt.ylabel('Number of Employees');"
      ],
      "execution_count": null,
      "outputs": [
        {
          "output_type": "display_data",
          "data": {
            "text/plain": [
              "<Figure size 640x480 with 1 Axes>"
            ],
            "image/png": "[encoded data removed]"
          },
          "metadata": {}
        }
      ]
    },
    {
      "cell_type": "code",
      "metadata": {
        "id": "DIcrOnZ4OKT8",
        "colab": {
          "base_uri": "https://localhost:8080/",
          "height": 480
        },
        "outputId": "130d5119-34fa-4395-8a89-939eb0357fb1"
      },
      "source": [
        "years = np.array(salaries['ed'])\n",
        "plt.title('Salary vs. Education Level')\n",
        "plt.ylabel('Salary')\n",
        "plt.xlabel('Years of education');\n",
        "plt.scatter(years, salary, alpha=0.5)\n",
        "plt.show()"
      ],
      "execution_count": null,
      "outputs": [
        {
          "output_type": "display_data",
          "data": {
            "text/plain": [
              "<Figure size 640x480 with 1 Axes>"
            ],
            "image/png": "[encoded data removed]"
          },
          "metadata": {}
        }
      ]
    },
    {
      "cell_type": "code",
      "metadata": {
        "id": "fllJH1rfOKT_",
        "colab": {
          "base_uri": "https://localhost:8080/"
        },
        "outputId": "d86fbaeb-623f-443e-dfd2-b88238c00727"
      },
      "source": [
        "# Compute Pearson coefficient\n",
        "corr, _ = pearsonr(salary,years)\n",
        "print('Correlation coefficient: ',corr)"
      ],
      "execution_count": null,
      "outputs": [
        {
          "output_type": "stream",
          "name": "stdout",
          "text": [
            "Correlation coefficient:  0.3399765246894847\n"
          ]
        }
      ]
    },
    {
      "cell_type": "markdown",
      "metadata": {
        "id": "-n2_sL4UOKUA"
      },
      "source": [
        "The Pearson correlation coefficient (a value between -1 and 1) can be used to summarize the strength of the linear relationship between two data samples.\n",
        "\n",
        "A simplified way to interpret the result is:\n",
        "- A value of 0 means no correlation\n",
        "- Values below -0.5 or above 0.5 indicates a notable (negative/positive) correlation"
      ]
    },
    {
      "cell_type": "markdown",
      "metadata": {
        "id": "oVXf-zPyOKUB"
      },
      "source": [
        "### 1.2 Your turn! (10-14 points)\n",
        "\n",
        "Write code to:\n",
        "\n",
        "1. Display the total headcount and the number (and %) of male and female employees. (2 pts)\n",
        "2. Compute and display the min, max, average, and median salary *per gender*. (8 pts)\n",
        "3. (OPTIONAL) Plot meaningful graphs that could provide insight into the gender inequality (*if any is present*) associated with the salaries in the company. (<= 4 bonus points)\n"
      ]
    },
    {
      "cell_type": "code",
      "metadata": {
        "id": "PyzLB_FILa6y",
        "colab": {
          "base_uri": "https://localhost:8080/"
        },
        "outputId": "9fb735b2-0ab0-46c1-b78e-c1e96092df2a"
      },
      "source": [
        "# 1. Display the total headcount and the number (and %) of male and female employees. (2 pts)\n",
        "\n",
        "\n",
        "salaries = pd.DataFrame({\n",
        "    'sex': ['male', 'female', 'male', 'female', 'male', 'male', 'female']\n",
        "})\n",
        "\n",
        "# finds the total # of employees in our data\n",
        "total_headcount = len(salaries)  # len() gives us the # of rows in the table\n",
        "\n",
        "# This line is to count how many times each gender appears in the 'sex' column\n",
        "gender_counts = salaries['sex'].value_counts()\n",
        "\n",
        "# Calculate the % of males and females\n",
        "gender_percentages = (gender_counts / total_headcount) * 100  # This is a simple percentage calculation: (part / whole) * 100\n",
        "\n",
        "\n",
        "# PRINT RESULTS\n",
        "print(\"Total headcount:\", total_headcount)\n",
        "print(\"Male employees:\", gender_counts.get('male', 0), f\"({gender_percentages.get('male', 0):.2f}%)\")\n",
        "print(\"Female employees:\", gender_counts.get('female', 0), f\"({gender_percentages.get('female', 0):.2f}%)\")"
      ],
      "execution_count": null,
      "outputs": [
        {
          "output_type": "stream",
          "name": "stdout",
          "text": [
            "Total headcount: 7\n",
            "Male employees: 4 (57.14%)\n",
            "Female employees: 3 (42.86%)\n"
          ]
        }
      ]
    },
    {
      "cell_type": "code",
      "source": [
        "# 2. Compute and display the min, max, average, and median salary per gender. (8 pts)\n",
        "\n",
        "salaries = pd.read_csv('/content/drive/My Drive/Colab Notebooks/data/salaries.csv')\n",
        "\n",
        "# 'earn' is the column for salary and 'sex' is the gender column\n",
        "salary_stats = salaries.groupby('sex')['earn'].agg(['min', 'max', 'mean', 'median'])\n",
        "\n",
        "# PRINT RESULTS\n",
        "print(salary_stats)"
      ],
      "metadata": {
        "colab": {
          "base_uri": "https://localhost:8080/"
        },
        "id": "WUEzuHzGGpwL",
        "outputId": "807c1047-61fb-4bfe-b594-db11fe04b90d"
      },
      "execution_count": null,
      "outputs": [
        {
          "output_type": "stream",
          "name": "stdout",
          "text": [
            "           min       max          mean   median\n",
            "sex                                            \n",
            "female   200.0  123000.0  18280.195051  15000.0\n",
            "male    1000.0  200000.0  29786.130693  25000.0\n"
          ]
        }
      ]
    },
    {
      "cell_type": "markdown",
      "metadata": {
        "id": "2MeVVzBfLeV5"
      },
      "source": [
        "*Enter your text here*"
      ]
    },
    {
      "cell_type": "markdown",
      "metadata": {
        "id": "34cWPF_jOKUQ"
      },
      "source": [
        "--------------------\n",
        "### Signs of inequality\n",
        "\n",
        "As you can possibly tell by now, this dataset may help us test hypotheses and answer questions related to possible sources of inequality associated with the salary distribution: gender, age, race, etc..\n",
        "\n",
        "Let's assume, for the sake of argument, that the number of years of education should correlate well with a person's salary (this is clearly a weak argument and the plot and Pearson correlation coefficient computation above suggests that this is *not* the case) and that other suspiciously high (positive or negative) correlations could be interpreted as a sign of inequality."
      ]
    },
    {
      "cell_type": "markdown",
      "metadata": {
        "id": "R1UaYIHoOKUR"
      },
      "source": [
        "---------------------\n",
        "### Hypotheses H1, H2, H3\n",
        "At this point, we will formulate 3 different hypotheses that might suggest that the salary distribution is biased by factors such as age, gender, or race:\n",
        "\n",
        "- H1: Older employees are paid less (i.e., ageism)\n",
        "- H2: Female employees are paid less (i.e., gender bias)\n",
        "- H3: Non-whites are paid less (i.e, race bias)."
      ]
    },
    {
      "cell_type": "markdown",
      "metadata": {
        "id": "n8odBiXoOKUR"
      },
      "source": [
        "### 1.3 Your turn! (18-26 points)\n",
        "\n",
        "Write Python code to test hypotheses H1, H2, and H3 (and some text to explain whether they were confirmed or not).\n",
        "\n",
        "Feel free to (also) use plots, but make your code independent of a human being interpreting those plots.\n",
        "\n",
        "**Weight**: 18 pts, i.e., 6 pts per hypothesis.\n",
        "Up to 8 bonus points for insightful additional hypotheses, code, and/or comments.  "
      ]
    },
    {
      "cell_type": "code",
      "source": [
        "# I included this here to show all the columns im working Although its given.\n",
        "print(salaries.columns)"
      ],
      "metadata": {
        "colab": {
          "base_uri": "https://localhost:8080/"
        },
        "id": "s2SJVQxXLOBm",
        "outputId": "a3165805-c776-48cc-85c5-ac27fefccc5d"
      },
      "execution_count": null,
      "outputs": [
        {
          "output_type": "stream",
          "name": "stdout",
          "text": [
            "Index(['earn', 'height', 'sex', 'ed', 'age', 'race'], dtype='object')\n"
          ]
        }
      ]
    },
    {
      "cell_type": "markdown",
      "metadata": {
        "id": "rkv4wSP1KeqR"
      },
      "source": [
        "H1:"
      ]
    },
    {
      "cell_type": "code",
      "metadata": {
        "id": "bh7h9mfsLBMw",
        "colab": {
          "base_uri": "https://localhost:8080/"
        },
        "outputId": "89287dd6-ea48-4041-ef0e-a7bb6924c6b7"
      },
      "source": [
        "# 1. Separate employees into two groups: under 40 and over 40\n",
        "under_40 = salaries[salaries['age'] <= 40]\n",
        "over_40 = salaries[salaries['age'] > 40]\n",
        "\n",
        "# 2. Calculate the average salary for each group\n",
        "avg_salary_under_40 = under_40['earn'].mean()\n",
        "avg_salary_over_40 = over_40['earn'].mean()\n",
        "\n",
        "# 3. Compare and print\n",
        "print(\"Average salary for employees under 40:\", avg_salary_under_40)\n",
        "print(\"Average salary for employees over 40:\", avg_salary_over_40)\n",
        "\n",
        " # if-else statment included\n",
        "if avg_salary_under_40 > avg_salary_over_40:\n",
        "    print(\"Older employees seem to be paid less on average.\")\n",
        "else:\n",
        "    print(\"Older employees don't seem to be paid less on average.\")"
      ],
      "execution_count": null,
      "outputs": [
        {
          "output_type": "stream",
          "name": "stdout",
          "text": [
            "Average salary for employees under 40: 21277.424332344213\n",
            "Average salary for employees over 40: 25597.50193050193\n",
            "Older employees don't seem to be paid less on average.\n"
          ]
        }
      ]
    },
    {
      "cell_type": "markdown",
      "metadata": {
        "id": "ylsSA3g6MGB3"
      },
      "source": [
        "H2:"
      ]
    },
    {
      "cell_type": "code",
      "metadata": {
        "id": "6RCqC-wEMMpw",
        "colab": {
          "base_uri": "https://localhost:8080/",
          "height": 178
        },
        "outputId": "172a46b7-6130-4ca6-f1b2-da99fa4c31a9"
      },
      "source": [
        "# H2: Female employees are paid less (i.e., gender bias)\n",
        "\n",
        "salaries.groupby(\"sex\")[\"earn\"].mean()\n"
      ],
      "execution_count": null,
      "outputs": [
        {
          "output_type": "execute_result",
          "data": {
            "text/plain": [
              "sex\n",
              "female    18280.195051\n",
              "male      29786.130693\n",
              "Name: earn, dtype: float64"
            ],
            "text/html": [
              "<div>\n",
              "<style scoped>\n",
              "    .dataframe tbody tr th:only-of-type {\n",
              "        vertical-align: middle;\n",
              "    }\n",
              "\n",
              "    .dataframe tbody tr th {\n",
              "        vertical-align: top;\n",
              "    }\n",
              "\n",
              "    .dataframe thead th {\n",
              "        text-align: right;\n",
              "    }\n",
              "</style>\n",
              "<table border=\"1\" class=\"dataframe\">\n",
              "  <thead>\n",
              "    <tr style=\"text-align: right;\">\n",
              "      <th></th>\n",
              "      <th>earn</th>\n",
              "    </tr>\n",
              "    <tr>\n",
              "      <th>sex</th>\n",
              "      <th></th>\n",
              "    </tr>\n",
              "  </thead>\n",
              "  <tbody>\n",
              "    <tr>\n",
              "      <th>female</th>\n",
              "      <td>18280.195051</td>\n",
              "    </tr>\n",
              "    <tr>\n",
              "      <th>male</th>\n",
              "      <td>29786.130693</td>\n",
              "    </tr>\n",
              "  </tbody>\n",
              "</table>\n",
              "</div><br><label><b>dtype:</b> float64</label>"
            ]
          },
          "metadata": {},
          "execution_count": 20
        }
      ]
    },
    {
      "cell_type": "markdown",
      "metadata": {
        "id": "JE_UdkqxMPCJ"
      },
      "source": [
        "H3:"
      ]
    },
    {
      "cell_type": "code",
      "metadata": {
        "id": "runffTqPMQLM",
        "colab": {
          "base_uri": "https://localhost:8080/"
        },
        "outputId": "51528326-caec-4d0f-c69e-48870074e416"
      },
      "source": [
        "# Enter your code here\n",
        "\n",
        "# Calculate average salary for white and non-white employees\n",
        "avg_salary_white = salaries[salaries['race'] == 'white']['earn'].mean() # == equal to\n",
        "avg_salary_non_white = salaries[salaries['race'] != 'white']['earn'].mean() # =! not equal to\n",
        "\n",
        "# Print\n",
        "print(f\"Average salary for white employees: ${avg_salary_white:.2f}\")\n",
        "print(f\"Average salary for non-white employees: ${avg_salary_non_white:.2f}\")\n",
        "\n",
        "# REMOVE \"#\" for if else statement\n",
        "#if avg_salary_white > avg_salary_non_white:\n",
        "    #print(\"There is some evidence to suggest non-white employees are paid less.\")\n",
        "#else:\n",
        "    #print(\"There is no clear evidence to suggest non-white employees are paid less.\")"
      ],
      "execution_count": null,
      "outputs": [
        {
          "output_type": "stream",
          "name": "stdout",
          "text": [
            "Average salary for white employees: $23882.47\n",
            "Average salary for non-white employees: $19609.50\n"
          ]
        }
      ]
    },
    {
      "cell_type": "markdown",
      "metadata": {
        "id": "fiXV2xUI7lUZ"
      },
      "source": [
        "-------------------\n",
        "## Part 2: Fuel consumption"
      ]
    },
    {
      "cell_type": "markdown",
      "metadata": {
        "id": "0EDk6NGk8YsH"
      },
      "source": [
        "The Python code below will load a dataset containing fuel consumption data for ~400 vehicles produced in the 1970s and the 1980s along with some characteristic information associated with each model.\n",
        "\n",
        "Here, *displacement* refers to a vehicle's engine size and the fuel efficiency is measured in miles per gallon (mpg).\n",
        "\n",
        "See:\n",
        "https://archive.ics.uci.edu/ml/datasets/Auto+MPG for additional information."
      ]
    },
    {
      "cell_type": "code",
      "metadata": {
        "id": "4dkSabDG5gjc",
        "colab": {
          "base_uri": "https://localhost:8080/"
        },
        "outputId": "85850ae8-beb4-42cc-e4fd-4a84731a4102"
      },
      "source": [
        "data = pd.read_csv(\"http://archive.ics.uci.edu/ml/machine-learning-databases/auto-mpg/auto-mpg.data-original\",\n",
        "                   delim_whitespace = True, header=None,\n",
        "                   names = ['mpg', 'cylinders', 'displacement', 'horsepower', 'weight', 'acceleration',\n",
        "                            'model', 'origin', 'car_name'])\n",
        "print(data.shape)"
      ],
      "execution_count": null,
      "outputs": [
        {
          "output_type": "stream",
          "name": "stderr",
          "text": [
            "<ipython-input-22-4a6d48b4152a>:1: FutureWarning: The 'delim_whitespace' keyword in pd.read_csv is deprecated and will be removed in a future version. Use ``sep='\\s+'`` instead\n",
            "  data = pd.read_csv(\"http://archive.ics.uci.edu/ml/machine-learning-databases/auto-mpg/auto-mpg.data-original\",\n"
          ]
        },
        {
          "output_type": "stream",
          "name": "stdout",
          "text": [
            "(406, 9)\n"
          ]
        }
      ]
    },
    {
      "cell_type": "code",
      "metadata": {
        "id": "WVNr-0SxD7Ai",
        "colab": {
          "base_uri": "https://localhost:8080/",
          "height": 206
        },
        "outputId": "483d554f-1770-485c-9bfd-fae9374f6f69"
      },
      "source": [
        "data.dropna(inplace=True)\n",
        "data.head()"
      ],
      "execution_count": null,
      "outputs": [
        {
          "output_type": "execute_result",
          "data": {
            "text/plain": [
              "    mpg  cylinders  displacement  horsepower  weight  acceleration  model  \\\n",
              "0  18.0        8.0         307.0       130.0  3504.0          12.0   70.0   \n",
              "1  15.0        8.0         350.0       165.0  3693.0          11.5   70.0   \n",
              "2  18.0        8.0         318.0       150.0  3436.0          11.0   70.0   \n",
              "3  16.0        8.0         304.0       150.0  3433.0          12.0   70.0   \n",
              "4  17.0        8.0         302.0       140.0  3449.0          10.5   70.0   \n",
              "\n",
              "   origin                   car_name  \n",
              "0     1.0  chevrolet chevelle malibu  \n",
              "1     1.0          buick skylark 320  \n",
              "2     1.0         plymouth satellite  \n",
              "3     1.0              amc rebel sst  \n",
              "4     1.0                ford torino  "
            ],
            "text/html": [
              "\n",
              "  <div id=\"df-39da2911-d30a-4742-a15e-c183608ddb80\" class=\"colab-df-container\">\n",
              "    <div>\n",
              "<style scoped>\n",
              "    .dataframe tbody tr th:only-of-type {\n",
              "        vertical-align: middle;\n",
              "    }\n",
              "\n",
              "    .dataframe tbody tr th {\n",
              "        vertical-align: top;\n",
              "    }\n",
              "\n",
              "    .dataframe thead th {\n",
              "        text-align: right;\n",
              "    }\n",
              "</style>\n",
              "<table border=\"1\" class=\"dataframe\">\n",
              "  <thead>\n",
              "    <tr style=\"text-align: right;\">\n",
              "      <th></th>\n",
              "      <th>mpg</th>\n",
              "      <th>cylinders</th>\n",
              "      <th>displacement</th>\n",
              "      <th>horsepower</th>\n",
              "      <th>weight</th>\n",
              "      <th>acceleration</th>\n",
              "      <th>model</th>\n",
              "      <th>origin</th>\n",
              "      <th>car_name</th>\n",
              "    </tr>\n",
              "  </thead>\n",
              "  <tbody>\n",
              "    <tr>\n",
              "      <th>0</th>\n",
              "      <td>18.0</td>\n",
              "      <td>8.0</td>\n",
              "      <td>307.0</td>\n",
              "      <td>130.0</td>\n",
              "      <td>3504.0</td>\n",
              "      <td>12.0</td>\n",
              "      <td>70.0</td>\n",
              "      <td>1.0</td>\n",
              "      <td>chevrolet chevelle malibu</td>\n",
              "    </tr>\n",
              "    <tr>\n",
              "      <th>1</th>\n",
              "      <td>15.0</td>\n",
              "      <td>8.0</td>\n",
              "      <td>350.0</td>\n",
              "      <td>165.0</td>\n",
              "      <td>3693.0</td>\n",
              "      <td>11.5</td>\n",
              "      <td>70.0</td>\n",
              "      <td>1.0</td>\n",
              "      <td>buick skylark 320</td>\n",
              "    </tr>\n",
              "    <tr>\n",
              "      <th>2</th>\n",
              "      <td>18.0</td>\n",
              "      <td>8.0</td>\n",
              "      <td>318.0</td>\n",
              "      <td>150.0</td>\n",
              "      <td>3436.0</td>\n",
              "      <td>11.0</td>\n",
              "      <td>70.0</td>\n",
              "      <td>1.0</td>\n",
              "      <td>plymouth satellite</td>\n",
              "    </tr>\n",
              "    <tr>\n",
              "      <th>3</th>\n",
              "      <td>16.0</td>\n",
              "      <td>8.0</td>\n",
              "      <td>304.0</td>\n",
              "      <td>150.0</td>\n",
              "      <td>3433.0</td>\n",
              "      <td>12.0</td>\n",
              "      <td>70.0</td>\n",
              "      <td>1.0</td>\n",
              "      <td>amc rebel sst</td>\n",
              "    </tr>\n",
              "    <tr>\n",
              "      <th>4</th>\n",
              "      <td>17.0</td>\n",
              "      <td>8.0</td>\n",
              "      <td>302.0</td>\n",
              "      <td>140.0</td>\n",
              "      <td>3449.0</td>\n",
              "      <td>10.5</td>\n",
              "      <td>70.0</td>\n",
              "      <td>1.0</td>\n",
              "      <td>ford torino</td>\n",
              "    </tr>\n",
              "  </tbody>\n",
              "</table>\n",
              "</div>\n",
              "    <div class=\"colab-df-buttons\">\n",
              "\n",
              "  <div class=\"colab-df-container\">\n",
              "    <button class=\"colab-df-convert\" onclick=\"convertToInteractive('df-39da2911-d30a-4742-a15e-c183608ddb80')\"\n",
              "            title=\"Convert this dataframe to an interactive table.\"\n",
              "            style=\"display:none;\">\n",
              "\n",
              "  <svg xmlns=\"http://www.w3.org/2000/svg\" height=\"24px\" viewBox=\"0 -960 960 960\">\n",
              "    <path d=\"M120-120v-720h720v720H120Zm60-500h600v-160H180v160Zm220 220h160v-160H400v160Zm0 220h160v-160H400v160ZM180-400h160v-160H180v160Zm440 0h160v-160H620v160ZM180-180h160v-160H180v160Zm440 0h160v-160H620v160Z\"/>\n",
              "  </svg>\n",
              "    </button>\n",
              "\n",
              "  <style>\n",
              "    .colab-df-container {\n",
              "      display:flex;\n",
              "      gap: 12px;\n",
              "    }\n",
              "\n",
              "    .colab-df-convert {\n",
              "      background-color: #E8F0FE;\n",
              "      border: none;\n",
              "      border-radius: 50%;\n",
              "      cursor: pointer;\n",
              "      display: none;\n",
              "      fill: #1967D2;\n",
              "      height: 32px;\n",
              "      padding: 0 0 0 0;\n",
              "      width: 32px;\n",
              "    }\n",
              "\n",
              "    .colab-df-convert:hover {\n",
              "      background-color: #E2EBFA;\n",
              "      box-shadow: 0px 1px 2px rgba(60, 64, 67, 0.3), 0px 1px 3px 1px rgba(60, 64, 67, 0.15);\n",
              "      fill: #174EA6;\n",
              "    }\n",
              "\n",
              "    .colab-df-buttons div {\n",
              "      margin-bottom: 4px;\n",
              "    }\n",
              "\n",
              "    [theme=dark] .colab-df-convert {\n",
              "      background-color: #3B4455;\n",
              "      fill: #D2E3FC;\n",
              "    }\n",
              "\n",
              "    [theme=dark] .colab-df-convert:hover {\n",
              "      background-color: #434B5C;\n",
              "      box-shadow: 0px 1px 3px 1px rgba(0, 0, 0, 0.15);\n",
              "      filter: drop-shadow(0px 1px 2px rgba(0, 0, 0, 0.3));\n",
              "      fill: #FFFFFF;\n",
              "    }\n",
              "  </style>\n",
              "\n",
              "    <script>\n",
              "      const buttonEl =\n",
              "        document.querySelector('#df-39da2911-d30a-4742-a15e-c183608ddb80 button.colab-df-convert');\n",
              "      buttonEl.style.display =\n",
              "        google.colab.kernel.accessAllowed ? 'block' : 'none';\n",
              "\n",
              "      async function convertToInteractive(key) {\n",
              "        const element = document.querySelector('#df-39da2911-d30a-4742-a15e-c183608ddb80');\n",
              "        const dataTable =\n",
              "          await google.colab.kernel.invokeFunction('convertToInteractive',\n",
              "                                                    [key], {});\n",
              "        if (!dataTable) return;\n",
              "\n",
              "        const docLinkHtml = 'Like what you see? Visit the ' +\n",
              "          '<a target=\"_blank\" href=https://colab.research.google.com/notebooks/data_table.ipynb>data table notebook</a>'\n",
              "          + ' to learn more about interactive tables.';\n",
              "        element.innerHTML = '';\n",
              "        dataTable['output_type'] = 'display_data';\n",
              "        await google.colab.output.renderOutput(dataTable, element);\n",
              "        const docLink = document.createElement('div');\n",
              "        docLink.innerHTML = docLinkHtml;\n",
              "        element.appendChild(docLink);\n",
              "      }\n",
              "    </script>\n",
              "  </div>\n",
              "\n",
              "\n",
              "<div id=\"df-dd041f4c-2255-4c82-be4d-04d2d09596fe\">\n",
              "  <button class=\"colab-df-quickchart\" onclick=\"quickchart('df-dd041f4c-2255-4c82-be4d-04d2d09596fe')\"\n",
              "            title=\"Suggest charts\"\n",
              "            style=\"display:none;\">\n",
              "\n",
              "<svg xmlns=\"http://www.w3.org/2000/svg\" height=\"24px\"viewBox=\"0 0 24 24\"\n",
              "     width=\"24px\">\n",
              "    <g>\n",
              "        <path d=\"M19 3H5c-1.1 0-2 .9-2 2v14c0 1.1.9 2 2 2h14c1.1 0 2-.9 2-2V5c0-1.1-.9-2-2-2zM9 17H7v-7h2v7zm4 0h-2V7h2v10zm4 0h-2v-4h2v4z\"/>\n",
              "    </g>\n",
              "</svg>\n",
              "  </button>\n",
              "\n",
              "<style>\n",
              "  .colab-df-quickchart {\n",
              "      --bg-color: #E8F0FE;\n",
              "      --fill-color: #1967D2;\n",
              "      --hover-bg-color: #E2EBFA;\n",
              "      --hover-fill-color: #174EA6;\n",
              "      --disabled-fill-color: #AAA;\n",
              "      --disabled-bg-color: #DDD;\n",
              "  }\n",
              "\n",
              "  [theme=dark] .colab-df-quickchart {\n",
              "      --bg-color: #3B4455;\n",
              "      --fill-color: #D2E3FC;\n",
              "      --hover-bg-color: #434B5C;\n",
              "      --hover-fill-color: #FFFFFF;\n",
              "      --disabled-bg-color: #3B4455;\n",
              "      --disabled-fill-color: #666;\n",
              "  }\n",
              "\n",
              "  .colab-df-quickchart {\n",
              "    background-color: var(--bg-color);\n",
              "    border: none;\n",
              "    border-radius: 50%;\n",
              "    cursor: pointer;\n",
              "    display: none;\n",
              "    fill: var(--fill-color);\n",
              "    height: 32px;\n",
              "    padding: 0;\n",
              "    width: 32px;\n",
              "  }\n",
              "\n",
              "  .colab-df-quickchart:hover {\n",
              "    background-color: var(--hover-bg-color);\n",
              "    box-shadow: 0 1px 2px rgba(60, 64, 67, 0.3), 0 1px 3px 1px rgba(60, 64, 67, 0.15);\n",
              "    fill: var(--button-hover-fill-color);\n",
              "  }\n",
              "\n",
              "  .colab-df-quickchart-complete:disabled,\n",
              "  .colab-df-quickchart-complete:disabled:hover {\n",
              "    background-color: var(--disabled-bg-color);\n",
              "    fill: var(--disabled-fill-color);\n",
              "    box-shadow: none;\n",
              "  }\n",
              "\n",
              "  .colab-df-spinner {\n",
              "    border: 2px solid var(--fill-color);\n",
              "    border-color: transparent;\n",
              "    border-bottom-color: var(--fill-color);\n",
              "    animation:\n",
              "      spin 1s steps(1) infinite;\n",
              "  }\n",
              "\n",
              "  @keyframes spin {\n",
              "    0% {\n",
              "      border-color: transparent;\n",
              "      border-bottom-color: var(--fill-color);\n",
              "      border-left-color: var(--fill-color);\n",
              "    }\n",
              "    20% {\n",
              "      border-color: transparent;\n",
              "      border-left-color: var(--fill-color);\n",
              "      border-top-color: var(--fill-color);\n",
              "    }\n",
              "    30% {\n",
              "      border-color: transparent;\n",
              "      border-left-color: var(--fill-color);\n",
              "      border-top-color: var(--fill-color);\n",
              "      border-right-color: var(--fill-color);\n",
              "    }\n",
              "    40% {\n",
              "      border-color: transparent;\n",
              "      border-right-color: var(--fill-color);\n",
              "      border-top-color: var(--fill-color);\n",
              "    }\n",
              "    60% {\n",
              "      border-color: transparent;\n",
              "      border-right-color: var(--fill-color);\n",
              "    }\n",
              "    80% {\n",
              "      border-color: transparent;\n",
              "      border-right-color: var(--fill-color);\n",
              "      border-bottom-color: var(--fill-color);\n",
              "    }\n",
              "    90% {\n",
              "      border-color: transparent;\n",
              "      border-bottom-color: var(--fill-color);\n",
              "    }\n",
              "  }\n",
              "</style>\n",
              "\n",
              "  <script>\n",
              "    async function quickchart(key) {\n",
              "      const quickchartButtonEl =\n",
              "        document.querySelector('#' + key + ' button');\n",
              "      quickchartButtonEl.disabled = true;  // To prevent multiple clicks.\n",
              "      quickchartButtonEl.classList.add('colab-df-spinner');\n",
              "      try {\n",
              "        const charts = await google.colab.kernel.invokeFunction(\n",
              "            'suggestCharts', [key], {});\n",
              "      } catch (error) {\n",
              "        console.error('Error during call to suggestCharts:', error);\n",
              "      }\n",
              "      quickchartButtonEl.classList.remove('colab-df-spinner');\n",
              "      quickchartButtonEl.classList.add('colab-df-quickchart-complete');\n",
              "    }\n",
              "    (() => {\n",
              "      let quickchartButtonEl =\n",
              "        document.querySelector('#df-dd041f4c-2255-4c82-be4d-04d2d09596fe button');\n",
              "      quickchartButtonEl.style.display =\n",
              "        google.colab.kernel.accessAllowed ? 'block' : 'none';\n",
              "    })();\n",
              "  </script>\n",
              "</div>\n",
              "\n",
              "    </div>\n",
              "  </div>\n"
            ],
            "application/vnd.google.colaboratory.intrinsic+json": {
              "type": "dataframe",
              "variable_name": "data",
              "summary": "{\n  \"name\": \"data\",\n  \"rows\": 392,\n  \"fields\": [\n    {\n      \"column\": \"mpg\",\n      \"properties\": {\n        \"dtype\": \"number\",\n        \"std\": 7.805007486571799,\n        \"min\": 9.0,\n        \"max\": 46.6,\n        \"num_unique_values\": 127,\n        \"samples\": [\n          17.5,\n          35.1,\n          28.8\n        ],\n        \"semantic_type\": \"\",\n        \"description\": \"\"\n      }\n    },\n    {\n      \"column\": \"cylinders\",\n      \"properties\": {\n        \"dtype\": \"number\",\n        \"std\": 1.7057832474527843,\n        \"min\": 3.0,\n        \"max\": 8.0,\n        \"num_unique_values\": 5,\n        \"samples\": [\n          4.0,\n          5.0,\n          6.0\n        ],\n        \"semantic_type\": \"\",\n        \"description\": \"\"\n      }\n    },\n    {\n      \"column\": \"displacement\",\n      \"properties\": {\n        \"dtype\": \"number\",\n        \"std\": 104.64400390890465,\n        \"min\": 68.0,\n        \"max\": 455.0,\n        \"num_unique_values\": 81,\n        \"samples\": [\n          116.0,\n          307.0,\n          360.0\n        ],\n        \"semantic_type\": \"\",\n        \"description\": \"\"\n      }\n    },\n    {\n      \"column\": \"horsepower\",\n      \"properties\": {\n        \"dtype\": \"number\",\n        \"std\": 38.49115993282855,\n        \"min\": 46.0,\n        \"max\": 230.0,\n        \"num_unique_values\": 93,\n        \"samples\": [\n          92.0,\n          100.0,\n          52.0\n        ],\n        \"semantic_type\": \"\",\n        \"description\": \"\"\n      }\n    },\n    {\n      \"column\": \"weight\",\n      \"properties\": {\n        \"dtype\": \"number\",\n        \"std\": 849.4025600429494,\n        \"min\": 1613.0,\n        \"max\": 5140.0,\n        \"num_unique_values\": 346,\n        \"samples\": [\n          2472.0,\n          3221.0,\n          2700.0\n        ],\n        \"semantic_type\": \"\",\n        \"description\": \"\"\n      }\n    },\n    {\n      \"column\": \"acceleration\",\n      \"properties\": {\n        \"dtype\": \"number\",\n        \"std\": 2.7588641191880816,\n        \"min\": 8.0,\n        \"max\": 24.8,\n        \"num_unique_values\": 95,\n        \"samples\": [\n          14.7,\n          18.0,\n          14.3\n        ],\n        \"semantic_type\": \"\",\n        \"description\": \"\"\n      }\n    },\n    {\n      \"column\": \"model\",\n      \"properties\": {\n        \"dtype\": \"number\",\n        \"std\": 3.6837365435778318,\n        \"min\": 70.0,\n        \"max\": 82.0,\n        \"num_unique_values\": 13,\n        \"samples\": [\n          81.0,\n          79.0,\n          70.0\n        ],\n        \"semantic_type\": \"\",\n        \"description\": \"\"\n      }\n    },\n    {\n      \"column\": \"origin\",\n      \"properties\": {\n        \"dtype\": \"number\",\n        \"std\": 0.805518183418305,\n        \"min\": 1.0,\n        \"max\": 3.0,\n        \"num_unique_values\": 3,\n        \"samples\": [\n          1.0,\n          3.0,\n          2.0\n        ],\n        \"semantic_type\": \"\",\n        \"description\": \"\"\n      }\n    },\n    {\n      \"column\": \"car_name\",\n      \"properties\": {\n        \"dtype\": \"string\",\n        \"num_unique_values\": 301,\n        \"samples\": [\n          \"subaru dl\",\n          \"buick century limited\",\n          \"plymouth horizon\"\n        ],\n        \"semantic_type\": \"\",\n        \"description\": \"\"\n      }\n    }\n  ]\n}"
            }
          },
          "metadata": {},
          "execution_count": 23
        }
      ]
    },
    {
      "cell_type": "markdown",
      "metadata": {
        "id": "MArizMt0_P1A"
      },
      "source": [
        "### 2.1 Your turn! (10-12 points)\n",
        "\n",
        "Write code to:\n",
        "\n",
        "1. Count the number of 3- and 5-cylinder vehicles in the dataset, display the count, and discard those entries (rows). (6 pts)\n",
        "2. Compute and display the min, max, and average fuel consumption (in mpg) for 4-, 6-, and 8-cylinder vehicles. (4 pts)\n",
        "3. (OPTIONAL) Display the name of the most and least fuel efficient vehicles in the dataset (<= 2 points)\n"
      ]
    },
    {
      "cell_type": "code",
      "source": [],
      "metadata": {
        "id": "OJ83YPy-MYHo"
      },
      "execution_count": null,
      "outputs": []
    },
    {
      "cell_type": "code",
      "source": [
        "# 1. Count the number of 3- and 5-cylinder vehicles in the dataset, display the count, and discard those entries (rows). (6 pts)\n",
        "\n",
        "# Initialize counters\n",
        "count_3_cylinder = 0\n",
        "count_5_cylinder = 0\n",
        "\n",
        "# Loop through the 'cylinders' column\n",
        "for cylinders in data['cylinders']:\n",
        "    if cylinders == 3:\n",
        "        count_3_cylinder += 1  # Add 1 if it's a 3-cylinder car\n",
        "    elif cylinders == 5:\n",
        "        count_5_cylinder += 1  # Add 1 if it's a 5-cylinder car\n",
        "\n",
        "# Print results\n",
        "print(\"Number of 3-cylinder vehicles:\", count_3_cylinder)\n",
        "print(\"Number of 5-cylinder vehicles:\", count_5_cylinder)\n",
        "\n",
        "# Discard entries with 3 or 5 cylinders\n",
        "filtered_car_data = data[(data['cylinders'] != 3) & (data['cylinders'] != 5)]\n",
        "\n",
        "print(f\"Rows after discarded entries: {len(filtered_car_data)} rows\")"
      ],
      "metadata": {
        "colab": {
          "base_uri": "https://localhost:8080/"
        },
        "id": "NDgREuSdqMGV",
        "outputId": "f863b947-0e27-4f1c-b885-10df9bca09f1"
      },
      "execution_count": null,
      "outputs": [
        {
          "output_type": "stream",
          "name": "stdout",
          "text": [
            "Number of 3-cylinder vehicles: 4\n",
            "Number of 5-cylinder vehicles: 3\n",
            "Rows after discarded entries: 385 rows\n"
          ]
        }
      ]
    },
    {
      "cell_type": "code",
      "source": [
        "#2. Compute and display the min, max, and average fuel consumption (in mpg) for 4-, 6-, and 8-cylinder vehicles.\n",
        "\n",
        "# Group data by number of cylinders and calculate statistics\n",
        "cyl_stats = data.groupby(\"cylinders\")[\"mpg\"].agg([\"min\", \"max\", \"mean\"])\n",
        "\n",
        "# display statistics on cylinders\n",
        "print(cyl_stats.loc[[4, 6, 8]])"
      ],
      "metadata": {
        "colab": {
          "base_uri": "https://localhost:8080/"
        },
        "id": "W74UB9AclCjv",
        "outputId": "5f3b5fe4-b27f-4cf7-dbfe-0c325faa97c8"
      },
      "execution_count": null,
      "outputs": [
        {
          "output_type": "stream",
          "name": "stdout",
          "text": [
            "            min   max       mean\n",
            "cylinders                       \n",
            "4.0        18.0  46.6  29.283920\n",
            "6.0        15.0  38.0  19.973494\n",
            "8.0         9.0  26.6  14.963107\n"
          ]
        }
      ]
    },
    {
      "cell_type": "code",
      "source": [
        "# 3. (OPTIONAL) Display the name of the most and least fuel efficient vehicles in the dataset\n",
        "\n",
        "# Find the most fuel-efficient vehicle\n",
        "most_efficient = data.loc[data['mpg'].idxmax()]\n",
        "most_efficient_name = most_efficient['car_name']\n",
        "\n",
        "# Find the least fuel-efficient vehicle\n",
        "least_efficient = data.loc[data['mpg'].idxmin()]\n",
        "least_efficient_name = least_efficient['car_name']\n",
        "\n",
        "# Display the results\n",
        "print(f\"Most fuel efficient vehicle: {most_efficient_name} ({most_efficient['mpg']} mpg)\")\n",
        "print(f\"Least fuel efficient vehicle: {least_efficient_name} ({least_efficient['mpg']} mpg)\")"
      ],
      "metadata": {
        "colab": {
          "base_uri": "https://localhost:8080/"
        },
        "id": "nF8xTt2ssC4e",
        "outputId": "9292edde-7396-4b55-c16b-573b846a2ff6"
      },
      "execution_count": null,
      "outputs": [
        {
          "output_type": "stream",
          "name": "stdout",
          "text": [
            "Most fuel efficient vehicle: mazda glc (46.6 mpg)\n",
            "Least fuel efficient vehicle: hi 1200d (9.0 mpg)\n"
          ]
        }
      ]
    },
    {
      "cell_type": "markdown",
      "metadata": {
        "id": "KCU0fOaqAaIJ"
      },
      "source": [
        "--------------------\n",
        "### Hypotheses and questions\n",
        "\n",
        "This dataset may help us test hypotheses and answer questions related to fuel consumption.\n",
        "\n",
        "To get started: Which features of a vehicle correlate best with its mpg --  *displacement*, *weight*, or *horsepower*?"
      ]
    },
    {
      "cell_type": "markdown",
      "metadata": {
        "id": "rzrD2ZFgAaIM"
      },
      "source": [
        "### 2.2. Your turn! (24 points)\n",
        "\n",
        "Write Python code to plot the relationship between (8 pts each):\n",
        "\n",
        "1. Fuel consumption and displacement (engine size)\n",
        "2. Fuel consumption and weight\n",
        "3. Fuel consumption and horsepower (HP)\n"
      ]
    },
    {
      "cell_type": "code",
      "metadata": {
        "id": "90zGNrduRYn8",
        "colab": {
          "base_uri": "https://localhost:8080/",
          "height": 480
        },
        "outputId": "667d8b8b-5c34-4b06-8ff2-f229fc97a5f4"
      },
      "source": [
        "# 1. Fuel consumption and displacement (engine size)\n",
        "\n",
        "import pandas as pd\n",
        "import matplotlib.pyplot as plt\n",
        "\n",
        "# Create the scatter plot\n",
        "plt.scatter(data['displacement'], data['mpg'])\n",
        "plt.xlabel(\"Displacement (Engine Size)\")\n",
        "plt.ylabel(\"Fuel Consumption (MPG)\")\n",
        "plt.title(\"Fuel Consumption vs. Displacement\")\n",
        "plt.grid(True)\n",
        "plt.show()"
      ],
      "execution_count": null,
      "outputs": [
        {
          "output_type": "display_data",
          "data": {
            "text/plain": [
              "<Figure size 640x480 with 1 Axes>"
            ],
            "image/png": "[encoded data removed]"
          },
          "metadata": {}
        }
      ]
    },
    {
      "cell_type": "code",
      "source": [
        "# 2. Fuel consumption and weight\n",
        "\n",
        "import pandas as pd\n",
        "import matplotlib.pyplot as plt\n",
        "\n",
        "# Create the scatter plot\n",
        "plt.scatter(data['weight'], data['mpg'])\n",
        "plt.xlabel(\"Weight\")\n",
        "plt.ylabel(\"Fuel Consumption (MPG)\")\n",
        "plt.title(\"Fuel Consumption vs. Weight\")\n",
        "plt.grid(True)\n",
        "plt.show()"
      ],
      "metadata": {
        "colab": {
          "base_uri": "https://localhost:8080/",
          "height": 480
        },
        "id": "J6dOKmI7tpYh",
        "outputId": "ad204bd6-98a2-49e8-a371-b87072dbcab0"
      },
      "execution_count": null,
      "outputs": [
        {
          "output_type": "display_data",
          "data": {
            "text/plain": [
              "<Figure size 640x480 with 1 Axes>"
            ],
            "image/png": "[encoded data removed]"
          },
          "metadata": {}
        }
      ]
    },
    {
      "cell_type": "code",
      "source": [
        "# 3. Fuel consumption and horsepower (HP)\n",
        "\n",
        "import pandas as pd\n",
        "import matplotlib.pyplot as plt\n",
        "\n",
        "# Create the scatter plot\n",
        "plt.scatter(data['horsepower'], data['mpg'])\n",
        "plt.xlabel(\"Horsepower (HP)\")\n",
        "plt.ylabel(\"Fuel Consumption (MPG)\")\n",
        "plt.title(\"Fuel Consumption vs. Horsepower\")\n",
        "plt.grid(True)\n",
        "plt.show()"
      ],
      "metadata": {
        "colab": {
          "base_uri": "https://localhost:8080/",
          "height": 480
        },
        "id": "8F_dV4b8udVE",
        "outputId": "f61f824b-1811-4373-d066-1e022eaca8c8"
      },
      "execution_count": null,
      "outputs": [
        {
          "output_type": "display_data",
          "data": {
            "text/plain": [
              "<Figure size 640x480 with 1 Axes>"
            ],
            "image/png": "[encoded data removed]"
          },
          "metadata": {}
        }
      ]
    },
    {
      "cell_type": "markdown",
      "metadata": {
        "id": "pvUt01qHN4rc"
      },
      "source": [
        "---------------------\n",
        "### Hypotheses H4 and H5\n",
        "At this point, we will formulate two hypotheses that should be confirmed or refuted based on the data:\n",
        "\n",
        "- H4: fuel efficiency improved over the years represented in this dataset (i.e., 1970 through 1982).\n",
        "- H5: Japanese cars (within the same time frame) are more fuel efficient than American or European ones."
      ]
    },
    {
      "cell_type": "markdown",
      "metadata": {
        "id": "0n9yctP0CmC9"
      },
      "source": [
        "\n",
        "\n",
        "### 2.3 Your turn! (20-26 points)\n",
        "\n",
        "Write Python code to produce (box)plots that should provide good answers to the hypotheses H4 and H5 above (and some text to explain whether they were confirmed or not).\n",
        "\n",
        "**Weight**: 20 pts, i.e., 10 pts per hypothesis.\n",
        "Up to 6 bonus points for insightful additional hypotheses, code, and/or comments.\n",
        "\n",
        "Hint:\n",
        "\n",
        "``data['Country_code'] = data.origin.replace([1,2,3],['USA','Europe','Japan'])``\n",
        "\n"
      ]
    },
    {
      "cell_type": "code",
      "source": [
        "#H4: fuel efficiency improved over the years represented in this dataset (i.e., 1970 through 1982)\n",
        "# I referred to the other examples above for the plot format and used the built in AI to assist me for clarification.\n",
        "\n",
        "# Create the box plot\n",
        "plt.figure(figsize=(10, 6))\n",
        "data.boxplot(column='mpg', by='model', patch_artist=True) # I know this line of code is creating the box plot using the df\n",
        "plt.title('Fuel Efficiency Over the Years (1970-1982)')\n",
        "plt.xlabel('Model Year')\n",
        "plt.ylabel('Miles Per Gallon (MPG)')\n",
        "plt.xticks(rotation=45)\n",
        "plt.show()\n",
        "\n",
        "# Analyze the trend in median MPG over time\n",
        "median_mpg_by_year = data.groupby('model')['mpg'].median()\n",
        "if median_mpg_by_year.iloc[-1] > median_mpg_by_year.iloc[0]:  # Compare last year to first year\n",
        "    print(\"From the data given, fuel efficiency generally improved over the years.\")\n",
        "else:\n",
        "    print(\"From the data given, fuel efficiency did not generally improve over the years.\")"
      ],
      "metadata": {
        "colab": {
          "base_uri": "https://localhost:8080/",
          "height": 541
        },
        "id": "N6_8MB6MZDuy",
        "outputId": "ad10a8f3-bbd6-49f1-9e7b-026aab068cae"
      },
      "execution_count": null,
      "outputs": [
        {
          "output_type": "display_data",
          "data": {
            "text/plain": [
              "<Figure size 1000x600 with 0 Axes>"
            ]
          },
          "metadata": {}
        },
        {
          "output_type": "display_data",
          "data": {
            "text/plain": [
              "<Figure size 640x480 with 1 Axes>"
            ],
            "image/png": "[encoded data removed]"
          },
          "metadata": {}
        },
        {
          "output_type": "stream",
          "name": "stdout",
          "text": [
            "From the data given, fuel efficiency generally improved over the years.\n"
          ]
        }
      ]
    },
    {
      "cell_type": "code",
      "source": [
        "#H5: Japanese cars (within the same time frame) are more fuel efficient than American or European ones.\n",
        "# I referred to the other examples above for the plot format and used the built in AI to assist me for clarification.\n",
        "\n",
        "# Add Country_code column\n",
        "data['Country_code'] = data.origin.replace([1, 2, 3], ['USA', 'Europe', 'Japan'])\n",
        "\n",
        "# H5: Japanese cars are more fuel-efficient\n",
        "plt.figure(figsize=(8, 6))\n",
        "data.boxplot(column='mpg', by='Country_code', patch_artist=True)\n",
        "plt.title('Fuel Efficiency by Country of Origin')\n",
        "plt.ylabel('Miles Per Gallon (MPG)')\n",
        "plt.show()\n",
        "\n",
        "# Check if Japanese cars have higher median MPG\n",
        "median_mpg_by_country = data.groupby('Country_code')['mpg'].median()\n",
        "if median_mpg_by_country['Japan'] > median_mpg_by_country['USA'] and \\\n",
        "   median_mpg_by_country['Japan'] > median_mpg_by_country['Europe']:\n",
        "    print(\"H5 Supported: Japanese cars generally have higher fuel efficiency.\")\n",
        "else:\n",
        "    print(\"H5 Not Supported: Japanese cars do not have consistently higher fuel efficiency.\")"
      ],
      "metadata": {
        "colab": {
          "base_uri": "https://localhost:8080/",
          "height": 522
        },
        "id": "FcMcCdi6XUOe",
        "outputId": "7a8f1574-5197-4364-9520-92c60e14e399"
      },
      "execution_count": null,
      "outputs": [
        {
          "output_type": "display_data",
          "data": {
            "text/plain": [
              "<Figure size 800x600 with 0 Axes>"
            ]
          },
          "metadata": {}
        },
        {
          "output_type": "display_data",
          "data": {
            "text/plain": [
              "<Figure size 640x480 with 1 Axes>"
            ],
            "image/png": "[encoded data removed]"
          },
          "metadata": {}
        },
        {
          "output_type": "stream",
          "name": "stdout",
          "text": [
            "H5 Supported: Japanese cars generally have higher fuel efficiency.\n"
          ]
        }
      ]
    },
    {
      "cell_type": "markdown",
      "metadata": {
        "id": "WkqQd3ACOnyQ"
      },
      "source": [
        "*Enter your text*"
      ]
    },
    {
      "cell_type": "markdown",
      "metadata": {
        "id": "GLi0m9uuKkpD"
      },
      "source": [
        "### Conclusions (16 points)\n",
        "\n",
        "Write your conclusions and make sure to address the issues below:\n",
        "- What have you learned from this assignment?\n",
        "- Which parts were the most fun, time-consuming, enlightening, tedious?\n",
        "- What would you do if you had an additional week to work on this?"
      ]
    },
    {
      "cell_type": "code",
      "source": [
        "# What have you learned from this assignment?\n",
        "print(\"From this assingment I have learned how to use Python libraries like Pandass and Matplotlib for data analysis and visualization\")\n",
        "print(\"From this assingment I also learned how to load, clean, and manipulate datasets using Pandas Df\")\n",
        "print(\"From this assingment I also learned how to create various plots\")\n",
        "print(\"From this assingment I was able to calculate the mean, median, and average\")\n",
        "\n",
        "#Which parts were the most fun, time-consuming, enlightening, tedious?\n",
        "print(\"I enjoyed turning the data in to plots since thats something i've never done before, the most time-consuming part was understanding the data and manipulating it since this is my first Python project for awhile I had used some AI to explain specific lines of code to give me a better understanding what i'm working with and what it means, what I found to be most tedious was constantly going back to the AI to explain speciifc lines of code (since i'm rusty at Python) but if I didn't I probably wouldn't of been able to finish it\")\n",
        "\n",
        "#What would you do if you had an additional week to work on this?\n",
        "\n",
        "\n"
      ],
      "metadata": {
        "colab": {
          "base_uri": "https://localhost:8080/"
        },
        "id": "E0PtYiXXckOE",
        "outputId": "13215495-049c-4619-a2e9-7f52b99a4d57"
      },
      "execution_count": null,
      "outputs": [
        {
          "output_type": "stream",
          "name": "stdout",
          "text": [
            "From this assingment I have learned how to use Python libraries like Pandass and Matplotlib for data analysis and visualization\n",
            "From this assingment I also learned how to load, clean, and manipulate datasets using Pandas Df\n",
            "From this assingment I also learned how to create various plots\n",
            "From this assingment I was able to calculate the mean, median, and average\n",
            "I enjoyed turning the data in to plots since thats something i've never done before, the most time-consuming part was understanding the data and manipulating it since this is my first Python project for awhile I had used some AI to explain specific lines of code to give me a better understanding what i'm working with and what it means, what I found to be most tedious was constantly going back to the AI to explain speciifc lines of code (since i'm rusty at Python) but if I didn't I probably wouldn't of been able to finish it\n"
          ]
        }
      ]
    },
    {
      "cell_type": "code",
      "source": [
        "print(\"\"\"\n",
        "\n",
        "What I learned:\n",
        "- From this assingment I have learned how to use Python libraries like Pandass and Matplotlib for data analysis and visualization\n",
        "- From this assingment I also learned how to load, clean, and manipulate datasets using Pandas Df\n",
        "- From this assingment I also learned how to create various plots\n",
        "- From this assingment I was able to calculate the mean, median, and average\n",
        "----------------------------------------\n",
        "Which parts were the most fun, time-consuming, enlightening, tedious?\n",
        "- most fun: I enjoyed turning the data into plots since that's something i've never done before\n",
        "- Time consuming: What was most time consuming for me was re teaching myself Python since it's been awhile and i'm super rusty. However, I can understand specific parts of the code but when it comes to coding from scratch I have a hard time. So i'd have to code a line of code see if it worked and if I got an error I'd ask the built-in AI to give me recommendations and explain what was wrong so I could fix the code.\n",
        "- Tedious: Data transformation and cleaning\n",
        "----------------------------------------\n",
        "If I had an additional week:\n",
        "- I would experiment more with the data and continue to go over Python basics to help me better understand the foundational concepts.\n",
        "---------------------------------------\n",
        "Conclusion: At first I was stumped, nervous, stressed on how I would complete this but with the assistance of AI to explain lines of code that I didn't understand it helped me progress through this assingment and give me a better understanding of why the code was needed. I will be honest certain syntax still throws me off, but I feel like now I could explain better than I could before. In the end it encourages me more to want to figure out coding, I even asked a couple friends to set aside some time to possibly start a coding night where we'd try to learn and create something.\n",
        "\"\"\")\n"
      ],
      "metadata": {
        "colab": {
          "base_uri": "https://localhost:8080/"
        },
        "id": "1djMT19qf5e9",
        "outputId": "ac669df3-a3de-4bdc-c639-3cffbfb41615"
      },
      "execution_count": null,
      "outputs": [
        {
          "output_type": "stream",
          "name": "stdout",
          "text": [
            "\n",
            "\n",
            "What I learned:\n",
            "- From this assingment I have learned how to use Python libraries like Pandass and Matplotlib for data analysis and visualization\n",
            "- From this assingment I also learned how to load, clean, and manipulate datasets using Pandas Df\n",
            "- From this assingment I also learned how to create various plots\n",
            "- From this assingment I was able to calculate the mean, median, and average\n",
            "----------------------------------------\n",
            "Which parts were the most fun, time-consuming, enlightening, tedious?\n",
            "- most fun: I enjoyed turning the data into plots since that's something i've never done before\n",
            "- Time consuming: What was most time consuming for me was re teaching myself Python since it's been awhile and i'm super rusty. However, I can understand specific parts of the code but when it comes to coding from scratch I have a hard time. So i'd have to code a line of code see if it worked and if I got an error I'd ask the built-in AI to give me recommendations and explain what was wrong so I could fix the code. \n",
            "- Tedious: Data transformation and cleaning\n",
            "----------------------------------------\n",
            "If I had an additional week:\n",
            "- I would experiment more with the data and continue to go over Python basics to help me better understand the foundational concepts. \n",
            "---------------------------------------\n",
            "Conclusion: At first I was stumped, nervous, stressed on how I would complete this but with the assistance of AI to explain lines of code that I didn't understand it helped me progress through this assingment and give me a better understanding of why the code was needed. I will be honest certain syntax still throws me off, but I feel like now I could explain better than I could before. In the end it encourages me more to want to figure out coding, I even asked a couple friends to set aside some time to possibly start a coding night where we'd try to learn and create something. \n",
            "\n"
          ]
        }
      ]
    }
  ]
}